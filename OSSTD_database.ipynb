{
 "cells": [
  {
   "cell_type": "code",
   "execution_count": 1,
   "metadata": {},
   "outputs": [],
   "source": [
    "import sqlite3\n"
   ]
  },
  {
   "cell_type": "code",
   "execution_count": 2,
   "metadata": {},
   "outputs": [],
   "source": [
    "##Create the Database from json\n",
    "#import sqlite3\n",
    "from building_energy_standards_data.applications.database_maintenance import create_openstudio_standards_database_from_json\n",
    "\n",
    "conn = sqlite3.connect('openstudio_standards.db')\n",
    "create_openstudio_standards_database_from_json(conn)\n",
    "conn.close()"
   ]
  },
  {
   "cell_type": "code",
   "execution_count": 3,
   "metadata": {},
   "outputs": [],
   "source": [
    "##Export Database to CSV \n",
    "from building_energy_standards_data.applications.database_maintenance import export_openstudio_standards_database_to_csv\n",
    "conn = sqlite3.connect('openstudio_standards.db')\n",
    "export_openstudio_standards_database_to_csv(conn, save_dir='./building_energy_standards_data/database_files/')"
   ]
  },
  {
   "cell_type": "code",
   "execution_count": 1,
   "metadata": {},
   "outputs": [],
   "source": [
    "## Create database from CSV\n",
    "##Modifying the Database\n",
    "##The database data can be updated by modifying the JSON files directly, or the exported CSV files and then be regenerated using the following code block.\n",
    "import sqlite3\n",
    "from building_energy_standards_data.applications.database_maintenance import create_openstudio_standards_database_from_csv\n",
    "\n",
    "conn = sqlite3.connect('openstudio_standards.db')\n",
    "create_openstudio_standards_database_from_csv(conn)\n",
    "conn.close()"
   ]
  },
  {
   "cell_type": "code",
   "execution_count": null,
   "metadata": {},
   "outputs": [],
   "source": []
  },
  {
   "cell_type": "code",
   "execution_count": 2,
   "metadata": {},
   "outputs": [],
   "source": [
    "##Export the Database Data to json\n",
    "from building_energy_standards_data.applications.database_maintenance import export_openstudio_standards_database_to_json\n",
    "conn = sqlite3.connect('openstudio_standards.db')\n",
    "export_openstudio_standards_database_to_json(conn, save_dir='./building_energy_standards_data/database_files/')"
   ]
  }
 ],
 "metadata": {
  "kernelspec": {
   "display_name": "Python 3",
   "language": "python",
   "name": "python3"
  },
  "language_info": {
   "codemirror_mode": {
    "name": "ipython",
    "version": 3
   },
   "file_extension": ".py",
   "mimetype": "text/x-python",
   "name": "python",
   "nbconvert_exporter": "python",
   "pygments_lexer": "ipython3",
   "version": "3.11.1"
  }
 },
 "nbformat": 4,
 "nbformat_minor": 2
}
